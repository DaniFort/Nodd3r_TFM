{
  "cells": [
    {
      "cell_type": "code",
      "execution_count": null,
      "metadata": {
        "id": "I9HFQVbqH0lh"
      },
      "outputs": [],
      "source": [
        "import cv2\n",
        "import os\n",
        "from google.colab import drive\n",
        "import time"
      ]
    },
    {
      "cell_type": "code",
      "execution_count": null,
      "metadata": {
        "colab": {
          "base_uri": "https://localhost:8080/"
        },
        "id": "gdw1eE89Jk_B",
        "outputId": "23434e2f-2e2a-4043-87eb-59a3e427cf23"
      },
      "outputs": [
        {
          "name": "stdout",
          "output_type": "stream",
          "text": [
            "Mounted at /content/drive/\n"
          ]
        }
      ],
      "source": [
        "drive.mount('/content/drive/',force_remount=True)"
      ]
    },
    {
      "cell_type": "code",
      "execution_count": null,
      "metadata": {
        "id": "DyR6nV6vJtnC"
      },
      "outputs": [],
      "source": [
        "BASE_ORIGIN_PATH = '/content/drive/MyDrive/Nodd3rApuntes/TFM/Files/AumentedData'\n",
        "BASE_DST_PATH = '/content/drive/MyDrive/Nodd3rApuntes/TFM/Files/ProcesedData'\n",
        "LETTERS = ['A', 'B', 'C', 'D',  'E', 'F', 'G', 'H', 'I', 'J', 'K', 'L', 'M', 'N', 'O', 'P', 'Q', 'R', 'S', 'T', 'U', 'V', 'W', 'X', 'Y', 'Z','del', 'space']"
      ]
    },
    {
      "cell_type": "code",
      "execution_count": null,
      "metadata": {
        "colab": {
          "base_uri": "https://localhost:8080/"
        },
        "id": "ZRaebDBaKQXb",
        "outputId": "dcc58371-f5d7-44ef-e393-fa68d16979d3"
      },
      "outputs": [
        {
          "name": "stdout",
          "output_type": "stream",
          "text": [
            "Carpetas creadas\n"
          ]
        }
      ],
      "source": [
        "if not os.path.exists(BASE_DST_PATH):\n",
        "  os.mkdir(BASE_DST_PATH)\n",
        "  for i in ['train','validation','test']:\n",
        "    path = os.path.join(BASE_DST_PATH,i)\n",
        "    os.mkdir(path)\n",
        "    for letter in LETTERS:\n",
        "      l_path = os.path.join(BASE_DST_PATH, i, letter)\n",
        "      os.mkdir(l_path)\n",
        "  print('Carpetas creadas')\n",
        "else:\n",
        "  print('la carpeta ya existe')"
      ]
    },
    {
      "cell_type": "code",
      "execution_count": null,
      "metadata": {
        "colab": {
          "base_uri": "https://localhost:8080/"
        },
        "id": "dsxC2-sKMBQj",
        "outputId": "403b2dfa-216e-4345-d883-72a78c1430d9"
      },
      "outputs": [
        {
          "name": "stdout",
          "output_type": "stream",
          "text": [
            "--------- TRAIN ---------\n",
            "1852 images for train A\n",
            "1852 images for train B\n",
            "1852 images for train C\n",
            "1852 images for train D\n",
            "1852 images for train E\n",
            "1852 images for train F\n",
            "1852 images for train G\n",
            "1852 images for train H\n",
            "1852 images for train I\n",
            "1852 images for train J\n",
            "1852 images for train K\n",
            "1852 images for train L\n",
            "1576 images for train M\n",
            "1494 images for train N\n",
            "1852 images for train O\n",
            "1852 images for train P\n",
            "1608 images for train Q\n",
            "1852 images for train R\n",
            "1852 images for train S\n",
            "1852 images for train T\n",
            "1852 images for train U\n",
            "1852 images for train V\n",
            "1852 images for train W\n",
            "1852 images for train X\n",
            "1852 images for train Y\n",
            "1852 images for train Z\n",
            "751 images for train del\n",
            "1744 images for train space\n",
            "49769 images for train\n",
            "--------- VALIDATION ---------\n",
            "370 images for validation A\n",
            "370 images for validation B\n",
            "370 images for validation C\n",
            "370 images for validation D\n",
            "370 images for validation E\n",
            "370 images for validation F\n",
            "370 images for validation G\n",
            "370 images for validation H\n",
            "370 images for validation I\n",
            "370 images for validation J\n",
            "370 images for validation K\n",
            "370 images for validation L\n",
            "315 images for validation M\n",
            "298 images for validation N\n",
            "370 images for validation O\n",
            "370 images for validation P\n",
            "321 images for validation Q\n",
            "370 images for validation R\n",
            "370 images for validation S\n",
            "370 images for validation T\n",
            "370 images for validation U\n",
            "370 images for validation V\n",
            "370 images for validation W\n",
            "370 images for validation X\n",
            "370 images for validation Y\n",
            "370 images for validation Z\n",
            "150 images for validation del\n",
            "348 images for validation space\n",
            "9942 images for validation\n",
            "--------- TEST ---------\n",
            "248 images for test A\n",
            "248 images for test B\n",
            "248 images for test C\n",
            "248 images for test D\n",
            "248 images for test E\n",
            "248 images for test F\n",
            "248 images for test G\n",
            "248 images for test H\n",
            "248 images for test I\n",
            "248 images for test J\n",
            "248 images for test K\n",
            "248 images for test L\n",
            "211 images for test M\n",
            "200 images for test N\n",
            "248 images for test O\n",
            "248 images for test P\n",
            "215 images for test Q\n",
            "248 images for test R\n",
            "248 images for test S\n",
            "248 images for test T\n",
            "248 images for test U\n",
            "248 images for test V\n",
            "248 images for test W\n",
            "248 images for test X\n",
            "248 images for test Y\n",
            "248 images for test Z\n",
            "101 images for test del\n",
            "234 images for test space\n",
            "6665 images for test\n",
            "task done in 3327.607586145401\n"
          ]
        }
      ],
      "source": [
        "t0 = time.time()\n",
        "for category in ['train','validation','test']:\n",
        "  print('---------',category.upper(),'---------')\n",
        "  c_amount = []\n",
        "  for letter in LETTERS:\n",
        "    img_names = os.listdir(os.path.join(BASE_ORIGIN_PATH, category, letter))\n",
        "    amount = 0\n",
        "    for img_name in img_names:\n",
        "      img_path = os.path.join(BASE_ORIGIN_PATH,category, letter, img_name)\n",
        "      img = cv2.imread(img_path)\n",
        "      img = cv2.cvtColor(img, cv2.COLOR_BGR2GRAY)\n",
        "      img = cv2.medianBlur(img,5)\n",
        "      img = cv2.adaptiveThreshold(img, 255, cv2.ADAPTIVE_THRESH_GAUSSIAN_C,cv2.THRESH_BINARY, 11, 2)\n",
        "      dst_path = os.path.join(BASE_DST_PATH,category,letter,img_name)\n",
        "      cv2.imwrite(dst_path,img)\n",
        "      amount+=1\n",
        "    print(f'{amount} images for {category} {letter}')\n",
        "    c_amount.append(amount)\n",
        "  print(f'{sum(c_amount)} images for {category}')\n",
        "\n",
        "print(f'task done in {time.time()-t0}')"
      ]
    },
    {
      "cell_type": "code",
      "execution_count": null,
      "metadata": {
        "colab": {
          "base_uri": "https://localhost:8080/"
        },
        "id": "dLqgcDq90mzP",
        "outputId": "e0d08e67-5219-4b4f-8a4a-5dbca6cb9923"
      },
      "outputs": [
        {
          "name": "stdout",
          "output_type": "stream",
          "text": [
            "----- A -----\n",
            "train has 1852 images.\n",
            "test has 248 images.\n",
            "validation has 370 images.\n",
            "----- B -----\n",
            "train has 1852 images.\n",
            "test has 248 images.\n",
            "validation has 370 images.\n",
            "----- C -----\n",
            "train has 1852 images.\n",
            "test has 248 images.\n",
            "validation has 370 images.\n",
            "----- D -----\n",
            "train has 1852 images.\n",
            "test has 248 images.\n",
            "validation has 370 images.\n",
            "----- E -----\n",
            "train has 1852 images.\n",
            "test has 248 images.\n",
            "validation has 370 images.\n",
            "----- F -----\n",
            "train has 1852 images.\n",
            "test has 248 images.\n",
            "validation has 370 images.\n",
            "----- G -----\n",
            "train has 1852 images.\n",
            "test has 248 images.\n",
            "validation has 370 images.\n",
            "----- H -----\n",
            "train has 1852 images.\n",
            "test has 248 images.\n",
            "validation has 370 images.\n",
            "----- I -----\n",
            "train has 1852 images.\n",
            "test has 248 images.\n",
            "validation has 370 images.\n",
            "----- J -----\n",
            "train has 1852 images.\n",
            "test has 248 images.\n",
            "validation has 370 images.\n",
            "----- K -----\n",
            "train has 1852 images.\n",
            "test has 248 images.\n",
            "validation has 370 images.\n",
            "----- L -----\n",
            "train has 1852 images.\n",
            "test has 248 images.\n",
            "validation has 370 images.\n",
            "----- M -----\n",
            "train has 1576 images.\n",
            "test has 211 images.\n",
            "validation has 315 images.\n",
            "----- N -----\n",
            "train has 1494 images.\n",
            "test has 200 images.\n",
            "validation has 298 images.\n",
            "----- O -----\n",
            "train has 1852 images.\n",
            "test has 248 images.\n",
            "validation has 370 images.\n",
            "----- P -----\n",
            "train has 1852 images.\n",
            "test has 248 images.\n",
            "validation has 370 images.\n",
            "----- Q -----\n",
            "train has 1608 images.\n",
            "test has 215 images.\n",
            "validation has 321 images.\n",
            "----- R -----\n",
            "train has 1852 images.\n",
            "test has 248 images.\n",
            "validation has 370 images.\n",
            "----- S -----\n",
            "train has 1852 images.\n",
            "test has 248 images.\n",
            "validation has 370 images.\n",
            "----- T -----\n",
            "train has 1852 images.\n",
            "test has 248 images.\n",
            "validation has 370 images.\n",
            "----- U -----\n",
            "train has 1852 images.\n",
            "test has 248 images.\n",
            "validation has 370 images.\n",
            "----- V -----\n",
            "train has 1852 images.\n",
            "test has 248 images.\n",
            "validation has 370 images.\n",
            "----- W -----\n",
            "train has 1852 images.\n",
            "test has 248 images.\n",
            "validation has 370 images.\n",
            "----- X -----\n",
            "train has 1852 images.\n",
            "test has 248 images.\n",
            "validation has 370 images.\n",
            "----- Y -----\n",
            "train has 1852 images.\n",
            "test has 248 images.\n",
            "validation has 370 images.\n",
            "----- Z -----\n",
            "train has 1852 images.\n",
            "test has 248 images.\n",
            "validation has 370 images.\n",
            "----- del -----\n",
            "train has 751 images.\n",
            "test has 101 images.\n",
            "validation has 150 images.\n",
            "----- space -----\n",
            "train has 1744 images.\n",
            "test has 234 images.\n",
            "validation has 348 images.\n"
          ]
        }
      ],
      "source": [
        "for i in LETTERS:\n",
        "  print('-----',i,'-----')\n",
        "  for j in ['train','test','validation']:\n",
        "    amount = len(os.listdir(os.path.join(BASE_DST_PATH,j,i)))\n",
        "    print(f'{j} has {amount} images.')"
      ]
    }
  ],
  "metadata": {
    "colab": {
      "provenance": []
    },
    "kernelspec": {
      "display_name": "Python 3",
      "name": "python3"
    },
    "language_info": {
      "name": "python"
    }
  },
  "nbformat": 4,
  "nbformat_minor": 0
}
